{
 "cells": [
  {
   "cell_type": "code",
   "execution_count": 168,
   "id": "f79c5692-85f0-43bf-b2f7-045b451896d6",
   "metadata": {},
   "outputs": [
    {
     "data": {
      "text/html": [
       "<div>\n",
       "<style scoped>\n",
       "    .dataframe tbody tr th:only-of-type {\n",
       "        vertical-align: middle;\n",
       "    }\n",
       "\n",
       "    .dataframe tbody tr th {\n",
       "        vertical-align: top;\n",
       "    }\n",
       "\n",
       "    .dataframe thead th {\n",
       "        text-align: right;\n",
       "    }\n",
       "</style>\n",
       "<table border=\"1\" class=\"dataframe\">\n",
       "  <thead>\n",
       "    <tr style=\"text-align: right;\">\n",
       "      <th></th>\n",
       "      <th>Tipo_Gasto</th>\n",
       "      <th>Enero</th>\n",
       "      <th>Febrero</th>\n",
       "      <th>Marzo</th>\n",
       "      <th>Abril</th>\n",
       "      <th>Mayo</th>\n",
       "    </tr>\n",
       "  </thead>\n",
       "  <tbody>\n",
       "    <tr>\n",
       "      <th>0</th>\n",
       "      <td>Comida</td>\n",
       "      <td>600</td>\n",
       "      <td>500</td>\n",
       "      <td>600</td>\n",
       "      <td>650</td>\n",
       "      <td>800</td>\n",
       "    </tr>\n",
       "    <tr>\n",
       "      <th>1</th>\n",
       "      <td>Recreacion</td>\n",
       "      <td>100</td>\n",
       "      <td>50</td>\n",
       "      <td>75</td>\n",
       "      <td>75</td>\n",
       "      <td>150</td>\n",
       "    </tr>\n",
       "    <tr>\n",
       "      <th>2</th>\n",
       "      <td>Vestuario</td>\n",
       "      <td>0</td>\n",
       "      <td>0</td>\n",
       "      <td>200</td>\n",
       "      <td>0</td>\n",
       "      <td>100</td>\n",
       "    </tr>\n",
       "    <tr>\n",
       "      <th>3</th>\n",
       "      <td>Estudios</td>\n",
       "      <td>1500</td>\n",
       "      <td>1300</td>\n",
       "      <td>1200</td>\n",
       "      <td>1300</td>\n",
       "      <td>1300</td>\n",
       "    </tr>\n",
       "    <tr>\n",
       "      <th>4</th>\n",
       "      <td>Transporte</td>\n",
       "      <td>10</td>\n",
       "      <td>5</td>\n",
       "      <td>30</td>\n",
       "      <td>75</td>\n",
       "      <td>100</td>\n",
       "    </tr>\n",
       "  </tbody>\n",
       "</table>\n",
       "</div>"
      ],
      "text/plain": [
       "   Tipo_Gasto  Enero  Febrero  Marzo  Abril  Mayo\n",
       "0      Comida    600      500    600    650   800\n",
       "1  Recreacion    100       50     75     75   150\n",
       "2   Vestuario      0        0    200      0   100\n",
       "3    Estudios   1500     1300   1200   1300  1300\n",
       "4  Transporte     10        5     30     75   100"
      ]
     },
     "execution_count": 168,
     "metadata": {},
     "output_type": "execute_result"
    }
   ],
   "source": [
    "import pandas as pd\n",
    "import matplotlib.pyplot as plt\n",
    "import seaborn as sns\n",
    "#directorios\n",
    "# path = \"C:/Users/Nicole/Desktop/MLpythonModelado\"\n",
    "# file = \"LabModeloOriginal-main/gastoswilson.csv\"\n",
    "datosWilson = pd.read_csv(\"C:/Users/Nicole/Desktop/MLpythonModelado/LabModeloOriginal-main/gastoswilson.csv\")\n",
    "datosWilson.head(5)"
   ]
  },
  {
   "cell_type": "code",
   "execution_count": 169,
   "id": "bd3ab892",
   "metadata": {},
   "outputs": [
    {
     "data": {
      "text/html": [
       "<div>\n",
       "<style scoped>\n",
       "    .dataframe tbody tr th:only-of-type {\n",
       "        vertical-align: middle;\n",
       "    }\n",
       "\n",
       "    .dataframe tbody tr th {\n",
       "        vertical-align: top;\n",
       "    }\n",
       "\n",
       "    .dataframe thead th {\n",
       "        text-align: right;\n",
       "    }\n",
       "</style>\n",
       "<table border=\"1\" class=\"dataframe\">\n",
       "  <thead>\n",
       "    <tr style=\"text-align: right;\">\n",
       "      <th></th>\n",
       "      <th>Tipo_Gasto</th>\n",
       "      <th>Enero</th>\n",
       "      <th>Febrero</th>\n",
       "      <th>Marzo</th>\n",
       "      <th>Abril</th>\n",
       "      <th>Mayo</th>\n",
       "    </tr>\n",
       "  </thead>\n",
       "  <tbody>\n",
       "    <tr>\n",
       "      <th>0</th>\n",
       "      <td>Comida</td>\n",
       "      <td>800</td>\n",
       "      <td>1200</td>\n",
       "      <td>1200</td>\n",
       "      <td>1200</td>\n",
       "      <td>1200</td>\n",
       "    </tr>\n",
       "    <tr>\n",
       "      <th>1</th>\n",
       "      <td>Recreacion</td>\n",
       "      <td>100</td>\n",
       "      <td>50</td>\n",
       "      <td>0</td>\n",
       "      <td>400</td>\n",
       "      <td>0</td>\n",
       "    </tr>\n",
       "    <tr>\n",
       "      <th>2</th>\n",
       "      <td>Vestuario</td>\n",
       "      <td>0</td>\n",
       "      <td>300</td>\n",
       "      <td>100</td>\n",
       "      <td>200</td>\n",
       "      <td>0</td>\n",
       "    </tr>\n",
       "    <tr>\n",
       "      <th>3</th>\n",
       "      <td>Estudio</td>\n",
       "      <td>0</td>\n",
       "      <td>1300</td>\n",
       "      <td>1300</td>\n",
       "      <td>1300</td>\n",
       "      <td>1300</td>\n",
       "    </tr>\n",
       "    <tr>\n",
       "      <th>4</th>\n",
       "      <td>Transporte</td>\n",
       "      <td>60</td>\n",
       "      <td>10</td>\n",
       "      <td>10</td>\n",
       "      <td>100</td>\n",
       "      <td>0</td>\n",
       "    </tr>\n",
       "  </tbody>\n",
       "</table>\n",
       "</div>"
      ],
      "text/plain": [
       "   Tipo_Gasto  Enero  Febrero  Marzo  Abril  Mayo\n",
       "0      Comida    800     1200   1200   1200  1200\n",
       "1  Recreacion    100       50      0    400     0\n",
       "2   Vestuario      0      300    100    200     0\n",
       "3     Estudio      0     1300   1300   1300  1300\n",
       "4  Transporte     60       10     10    100     0"
      ]
     },
     "execution_count": 169,
     "metadata": {},
     "output_type": "execute_result"
    }
   ],
   "source": [
    "datosNicole = pd.read_csv(\"C:/Users/Nicole/Desktop/MLpythonModelado/DatosNicole/datosnicole.csv\")\n",
    "datosNicole.head(5)"
   ]
  },
  {
   "cell_type": "markdown",
   "id": "d748b26d-8a27-4c53-a645-63013a0ca2ab",
   "metadata": {},
   "source": [
    "# 1) Total Gastos\n",
    "## Gastos Wilson"
   ]
  },
  {
   "cell_type": "code",
   "execution_count": 101,
   "id": "672e20d2-fd36-474b-9328-0483c0660cc5",
   "metadata": {},
   "outputs": [
    {
     "data": {
      "text/html": [
       "<div>\n",
       "<style scoped>\n",
       "    .dataframe tbody tr th:only-of-type {\n",
       "        vertical-align: middle;\n",
       "    }\n",
       "\n",
       "    .dataframe tbody tr th {\n",
       "        vertical-align: top;\n",
       "    }\n",
       "\n",
       "    .dataframe thead th {\n",
       "        text-align: right;\n",
       "    }\n",
       "</style>\n",
       "<table border=\"1\" class=\"dataframe\">\n",
       "  <thead>\n",
       "    <tr style=\"text-align: right;\">\n",
       "      <th></th>\n",
       "      <th>Mes</th>\n",
       "      <th>Total_Gastos</th>\n",
       "    </tr>\n",
       "  </thead>\n",
       "  <tbody>\n",
       "    <tr>\n",
       "      <th>0</th>\n",
       "      <td>Enero</td>\n",
       "      <td>2210</td>\n",
       "    </tr>\n",
       "    <tr>\n",
       "      <th>1</th>\n",
       "      <td>Febrero</td>\n",
       "      <td>1855</td>\n",
       "    </tr>\n",
       "    <tr>\n",
       "      <th>2</th>\n",
       "      <td>Marzo</td>\n",
       "      <td>2105</td>\n",
       "    </tr>\n",
       "    <tr>\n",
       "      <th>3</th>\n",
       "      <td>Abril</td>\n",
       "      <td>2100</td>\n",
       "    </tr>\n",
       "    <tr>\n",
       "      <th>4</th>\n",
       "      <td>Mayo</td>\n",
       "      <td>2450</td>\n",
       "    </tr>\n",
       "  </tbody>\n",
       "</table>\n",
       "</div>"
      ],
      "text/plain": [
       "       Mes  Total_Gastos\n",
       "0    Enero          2210\n",
       "1  Febrero          1855\n",
       "2    Marzo          2105\n",
       "3    Abril          2100\n",
       "4     Mayo          2450"
      ]
     },
     "execution_count": 101,
     "metadata": {},
     "output_type": "execute_result"
    }
   ],
   "source": [
    "enero = [(\"Enero\", datosWilson[\"Enero\"].sum())]\n",
    "febrero = [\"Febrero\", datosWilson[\"Febrero\"].sum()]\n",
    "marzo = [\"Marzo\", datosWilson[\"Marzo\"].sum()]\n",
    "abril = [\"Abril\", datosWilson[\"Abril\"].sum()]\n",
    "mayo = [\"Mayo\", datosWilson[\"Mayo\"].sum()]\n",
    "\n",
    "Totales = pd.DataFrame(enero, columns = ['Mes' , 'Total_Gastos'])\n",
    "Totales.loc[1]=febrero\n",
    "Totales.loc[2]=marzo\n",
    "Totales.loc[3]=abril\n",
    "Totales.loc[4]=mayo\n",
    "\n",
    "Totales.head()"
   ]
  },
  {
   "cell_type": "markdown",
   "id": "c65ef7e0",
   "metadata": {},
   "source": [
    "## Gastos Nicolasa"
   ]
  },
  {
   "cell_type": "code",
   "execution_count": 174,
   "id": "49a20d6e",
   "metadata": {},
   "outputs": [
    {
     "data": {
      "text/html": [
       "<div>\n",
       "<style scoped>\n",
       "    .dataframe tbody tr th:only-of-type {\n",
       "        vertical-align: middle;\n",
       "    }\n",
       "\n",
       "    .dataframe tbody tr th {\n",
       "        vertical-align: top;\n",
       "    }\n",
       "\n",
       "    .dataframe thead th {\n",
       "        text-align: right;\n",
       "    }\n",
       "</style>\n",
       "<table border=\"1\" class=\"dataframe\">\n",
       "  <thead>\n",
       "    <tr style=\"text-align: right;\">\n",
       "      <th></th>\n",
       "      <th>Mes</th>\n",
       "      <th>Total_Gastos</th>\n",
       "    </tr>\n",
       "  </thead>\n",
       "  <tbody>\n",
       "    <tr>\n",
       "      <th>0</th>\n",
       "      <td>Enero</td>\n",
       "      <td>960</td>\n",
       "    </tr>\n",
       "    <tr>\n",
       "      <th>1</th>\n",
       "      <td>Febrero</td>\n",
       "      <td>2860</td>\n",
       "    </tr>\n",
       "    <tr>\n",
       "      <th>2</th>\n",
       "      <td>Marzo</td>\n",
       "      <td>2610</td>\n",
       "    </tr>\n",
       "    <tr>\n",
       "      <th>3</th>\n",
       "      <td>Abril</td>\n",
       "      <td>3200</td>\n",
       "    </tr>\n",
       "    <tr>\n",
       "      <th>4</th>\n",
       "      <td>Mayo</td>\n",
       "      <td>2500</td>\n",
       "    </tr>\n",
       "  </tbody>\n",
       "</table>\n",
       "</div>"
      ],
      "text/plain": [
       "       Mes  Total_Gastos\n",
       "0    Enero           960\n",
       "1  Febrero          2860\n",
       "2    Marzo          2610\n",
       "3    Abril          3200\n",
       "4     Mayo          2500"
      ]
     },
     "execution_count": 174,
     "metadata": {},
     "output_type": "execute_result"
    }
   ],
   "source": [
    "enero = [(\"Enero\", datosNicole[\"Enero\"].sum())]\n",
    "febrero = [\"Febrero\", datosNicole[\"Febrero\"].sum()]\n",
    "marzo = [\"Marzo\", datosNicole[\"Marzo\"].sum()]\n",
    "abril = [\"Abril\", datosNicole[\"Abril\"].sum()]\n",
    "mayo = [\"Mayo\", datosNicole[\"Mayo\"].sum()]\n",
    "\n",
    "Totales = pd.DataFrame(enero, columns = ['Mes' , 'Total_Gastos'])\n",
    "Totales.loc[1]=febrero\n",
    "Totales.loc[2]=marzo\n",
    "Totales.loc[3]=abril\n",
    "Totales.loc[4]=mayo\n",
    "\n",
    "Totales.head()"
   ]
  },
  {
   "cell_type": "markdown",
   "id": "2b427fbe-92bb-49cf-a905-436ba723107f",
   "metadata": {},
   "source": [
    "# 2) 3 Tipos de gasto mayores\n",
    "## Gastos mayores Wilson "
   ]
  },
  {
   "cell_type": "code",
   "execution_count": 177,
   "id": "81f41bda-a1b2-4653-865f-a569d60a17b8",
   "metadata": {},
   "outputs": [
    {
     "data": {
      "text/html": [
       "<div>\n",
       "<style scoped>\n",
       "    .dataframe tbody tr th:only-of-type {\n",
       "        vertical-align: middle;\n",
       "    }\n",
       "\n",
       "    .dataframe tbody tr th {\n",
       "        vertical-align: top;\n",
       "    }\n",
       "\n",
       "    .dataframe thead th {\n",
       "        text-align: right;\n",
       "    }\n",
       "</style>\n",
       "<table border=\"1\" class=\"dataframe\">\n",
       "  <thead>\n",
       "    <tr style=\"text-align: right;\">\n",
       "      <th></th>\n",
       "      <th>Tipo_Gasto</th>\n",
       "      <th>Total</th>\n",
       "    </tr>\n",
       "  </thead>\n",
       "  <tbody>\n",
       "    <tr>\n",
       "      <th>3</th>\n",
       "      <td>Estudios</td>\n",
       "      <td>6600</td>\n",
       "    </tr>\n",
       "    <tr>\n",
       "      <th>0</th>\n",
       "      <td>Comida</td>\n",
       "      <td>3150</td>\n",
       "    </tr>\n",
       "    <tr>\n",
       "      <th>1</th>\n",
       "      <td>Recreacion</td>\n",
       "      <td>450</td>\n",
       "    </tr>\n",
       "  </tbody>\n",
       "</table>\n",
       "</div>"
      ],
      "text/plain": [
       "   Tipo_Gasto  Total\n",
       "3    Estudios   6600\n",
       "0      Comida   3150\n",
       "1  Recreacion    450"
      ]
     },
     "execution_count": 177,
     "metadata": {},
     "output_type": "execute_result"
    }
   ],
   "source": [
    "#datos['total']=datos.loc[:].sum(axis=1)\n",
    "#datos.head()\n",
    "totalGasto = datosWilson.copy()\n",
    "totalGasto['Total'] = totalGasto.sum(axis=1)\n",
    "totalGasto.drop(['Enero', 'Febrero', 'Marzo', 'Abril', 'Mayo'], axis = 'columns', inplace=True)\n",
    "totalGasto = totalGasto.sort_values('Total',ascending=False)\n",
    "totalGasto.head(3)"
   ]
  },
  {
   "cell_type": "markdown",
   "id": "52392517",
   "metadata": {},
   "source": [
    "## Gastos mayores Nicolasa"
   ]
  },
  {
   "cell_type": "code",
   "execution_count": 178,
   "id": "2f1de853",
   "metadata": {},
   "outputs": [
    {
     "data": {
      "text/html": [
       "<div>\n",
       "<style scoped>\n",
       "    .dataframe tbody tr th:only-of-type {\n",
       "        vertical-align: middle;\n",
       "    }\n",
       "\n",
       "    .dataframe tbody tr th {\n",
       "        vertical-align: top;\n",
       "    }\n",
       "\n",
       "    .dataframe thead th {\n",
       "        text-align: right;\n",
       "    }\n",
       "</style>\n",
       "<table border=\"1\" class=\"dataframe\">\n",
       "  <thead>\n",
       "    <tr style=\"text-align: right;\">\n",
       "      <th></th>\n",
       "      <th>Tipo_Gasto</th>\n",
       "      <th>Total</th>\n",
       "    </tr>\n",
       "  </thead>\n",
       "  <tbody>\n",
       "    <tr>\n",
       "      <th>0</th>\n",
       "      <td>Comida</td>\n",
       "      <td>5600</td>\n",
       "    </tr>\n",
       "    <tr>\n",
       "      <th>3</th>\n",
       "      <td>Estudio</td>\n",
       "      <td>5200</td>\n",
       "    </tr>\n",
       "    <tr>\n",
       "      <th>2</th>\n",
       "      <td>Vestuario</td>\n",
       "      <td>600</td>\n",
       "    </tr>\n",
       "  </tbody>\n",
       "</table>\n",
       "</div>"
      ],
      "text/plain": [
       "  Tipo_Gasto  Total\n",
       "0     Comida   5600\n",
       "3    Estudio   5200\n",
       "2  Vestuario    600"
      ]
     },
     "execution_count": 178,
     "metadata": {},
     "output_type": "execute_result"
    }
   ],
   "source": [
    "#datos['total']=datos.loc[:].sum(axis=1)\n",
    "#datos.head()\n",
    "totalGasto = datosNicole.copy()\n",
    "totalGasto['Total'] = totalGasto.sum(axis=1)\n",
    "totalGasto.drop(['Enero', 'Febrero', 'Marzo', 'Abril', 'Mayo'], axis = 'columns', inplace=True)\n",
    "totalGasto = totalGasto.sort_values('Total',ascending=False)\n",
    "totalGasto.head(3)"
   ]
  },
  {
   "cell_type": "markdown",
   "id": "43d6973c-bf6b-484e-b9a6-0214780782f2",
   "metadata": {},
   "source": [
    "## 3) Gráfica sobre gastos mensuales"
   ]
  },
  {
   "cell_type": "code",
   "execution_count": 29,
   "id": "9e1b39ff-f078-4bf7-8e18-7b1fe45191f2",
   "metadata": {},
   "outputs": [
    {
     "data": {
      "text/plain": [
       "Text(0.5, 1.0, 'Gastos de Enero a Mayo')"
      ]
     },
     "execution_count": 29,
     "metadata": {},
     "output_type": "execute_result"
    },
    {
     "data": {
      "image/png": "[encoded data removed]",
      "text/plain": [
       "<Figure size 2160x720 with 1 Axes>"
      ]
     },
     "metadata": {
      "needs_background": "light"
     },
     "output_type": "display_data"
    }
   ],
   "source": [
    "X = list(Totales[\"Mes\"])\n",
    "Y = list(Totales[\"Total_Gastos\"])\n",
    "fig, axs = plt.subplots(figsize=(30,10),sharey=True)\n",
    "axs.bar(X,Y)\n",
    "plt.xlabel(\"Meses\")\n",
    "plt.ylabel(\"Gastos\")\n",
    "plt.title(\"Gastos de Enero a Mayo\")"
   ]
  },
  {
   "cell_type": "markdown",
   "id": "a071da87-7bc8-45d2-8738-08321416b95a",
   "metadata": {},
   "source": [
    "## 4) Creacion de CSV"
   ]
  },
  {
   "cell_type": "code",
   "execution_count": 33,
   "id": "9bdcecb4-3a46-4c5f-b95e-90dc3899c163",
   "metadata": {},
   "outputs": [],
   "source": [
    "totalGastoCompleta = datosWilson.copy()\n",
    "totalGastoCompleta['Total'] = totalGastoCompleta.sum(axis=1)\n",
    "totalGastoCompleta.to_csv('C:/Users/Nicole/Desktop/MLpythonModelado/LabModeloOriginal-main/DatosWilson.csv')"
   ]
  },
  {
   "cell_type": "markdown",
   "id": "70a40203-082b-4005-841b-db745be886f3",
   "metadata": {},
   "source": [
    "## 5) Gráfica circular de gastos"
   ]
  },
  {
   "cell_type": "code",
   "execution_count": 181,
   "id": "e2fb195f-868f-48a7-b2d5-201eebd699e6",
   "metadata": {},
   "outputs": [
    {
     "name": "stdout",
     "output_type": "stream",
     "text": [
      "10720\n",
      "12130\n"
     ]
    }
   ],
   "source": [
    "GastosWilson = datosWilson[\"Enero\"].sum()+datosWilson[\"Febrero\"].sum()+datosWilson[\"Marzo\"].sum()+datosWilson[\"Abril\"].sum()+datosWilson[\"Mayo\"].sum()\n",
    "print(GastosWilson)\n",
    "\n",
    "GastosNicole = datosNicole[\"Enero\"].sum()+datosNicole[\"Febrero\"].sum()+datosNicole[\"Marzo\"].sum()+datosNicole[\"Abril\"].sum()+datosNicole[\"Mayo\"].sum()\n",
    "print(GastosNicole)\n",
    "\n"
   ]
  },
  {
   "cell_type": "code",
   "execution_count": 199,
   "id": "f345ad85-a5a1-4a14-ad7f-f1a526785382",
   "metadata": {},
   "outputs": [
    {
     "data": {
      "image/png": "[encoded data removed]",
      "text/plain": [
       "<Figure size 432x288 with 1 Axes>"
      ]
     },
     "metadata": {},
     "output_type": "display_data"
    }
   ],
   "source": [
    "wilson = [(\"Wilson\", datosWilson[\"Enero\"].sum()+datosWilson[\"Febrero\"].sum()+datosWilson[\"Marzo\"].sum()+datosWilson[\"Abril\"].sum()+datosWilson[\"Mayo\"].sum())]\n",
    "nicolasa = [\"Nicolasa\", datosNicole[\"Enero\"].sum()+datosNicole[\"Febrero\"].sum()+datosNicole[\"Marzo\"].sum()+datosNicole[\"Abril\"].sum()+datosNicole[\"Mayo\"].sum()]\n",
    "\n",
    "Totales = pd.DataFrame(wilson,columns = ['Nombre' , 'Total_Gastos'])\n",
    "Totales.loc[1]=nicolasa\n",
    "\n",
    "Totales.head()\n",
    "\n",
    "\n",
    "plt.pie(Totales['Total_Gastos'],\n",
    "       labels=Totales['Nombre'])\n",
    "plt.title(\"Gasto total de los miembros\")\n",
    "plt.legend()\n",
    "plt.show()"
   ]
  }
 ],
 "metadata": {
  "kernelspec": {
   "display_name": "Python 3",
   "language": "python",
   "name": "python3"
  },
  "language_info": {
   "codemirror_mode": {
    "name": "ipython",
    "version": 3
   },
   "file_extension": ".py",
   "mimetype": "text/x-python",
   "name": "python",
   "nbconvert_exporter": "python",
   "pygments_lexer": "ipython3",
   "version": "3.8.8"
  }
 },
 "nbformat": 4,
 "nbformat_minor": 5
}
